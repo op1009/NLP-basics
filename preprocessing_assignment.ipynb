{
 "cells": [
  {
   "cell_type": "markdown",
   "metadata": {
    "id": "EmLKVCVBIUsA"
   },
   "source": [
    "## Preprocessing Assignment\n",
    "1. [X] Fetch API and create a dataset of movie name, overview, genres\n",
    "2. [ ] Apply suitable preprocessing on the dataset"
   ]
  },
  {
   "cell_type": "markdown",
   "metadata": {
    "id": "CiDc0hiPJCuE"
   },
   "source": [
    "#### Fetching data from API and creating dataset"
   ]
  },
  {
   "cell_type": "code",
   "execution_count": null,
   "metadata": {
    "colab": {
     "base_uri": "https://localhost:8080/"
    },
    "id": "Il3fZhSwaOZH",
    "outputId": "9abd19d9-6c67-433a-87ea-2587ddad59d7"
   },
   "outputs": [],
   "source": [
    "%%time\n",
    "import json\n",
    "import requests\n",
    "from tqdm import tqdm\n",
    "import pandas as pd\n",
    "\n",
    "df = pd.DataFrame(columns=['title', 'overview', 'genre_ids'])\n",
    "\n",
    "# url of movies api\n",
    "url = \"https://api.themoviedb.org/3/movie/top_rated?api_key=8265bd1679663a7ea12ac168da84d2e8&language=en-US&page=\"\n",
    "\n",
    "# fetch for 470 pages\n",
    "for page in tqdm(range(470)):\n",
    "  # GET request to api url\n",
    "  response = requests.get(f'{url}{page+1}')\n",
    "\n",
    "  # parse the response as JSON\n",
    "  data = json.loads(response.text)\n",
    "\n",
    "  # get results from JSON\n",
    "  results = data[\"results\"]\n",
    "\n",
    "  for result in results:\n",
    "    # extract title, overview, and genre ids from the result\n",
    "    row = {\"title\": result[\"title\"], \"overview\": result[\"overview\"], \"genre_ids\": result[\"genre_ids\"]}\n",
    "\n",
    "    # create a new df and concat in df\n",
    "    df = pd.concat([df, pd.DataFrame([row])], ignore_index=True)"
   ]
  },
  {
   "cell_type": "code",
   "execution_count": null,
   "metadata": {
    "colab": {
     "base_uri": "https://localhost:8080/",
     "height": 206
    },
    "id": "e4C1Xm_WaWXI",
    "outputId": "24af5465-5f98-4abf-94c4-9fbe9874c7de"
   },
   "outputs": [],
   "source": [
    "df.head()"
   ]
  },
  {
   "cell_type": "markdown",
   "metadata": {
    "id": "RFouZXvCJPbP"
   },
   "source": [
    "### Replace genre_ids with genre names"
   ]
  },
  {
   "cell_type": "code",
   "execution_count": null,
   "metadata": {
    "colab": {
     "base_uri": "https://localhost:8080/"
    },
    "id": "ms1LBN-JeA1_",
    "outputId": "2fb7011b-dfa0-4abf-f6c1-0664077a3437"
   },
   "outputs": [],
   "source": [
    "# URL of genre ids and its names\n",
    "url = \"https://api.themoviedb.org/3/genre/movie/list?api_key=8265bd1679663a7ea12ac168da84d2e8&language=en-US\"\n",
    "\n",
    "response = requests.get(url)\n",
    "\n",
    "data = json.loads(response.text)\n",
    "\n",
    "results_dict = data[\"genres\"]\n",
    "# print(results_dict)"
   ]
  },
  {
   "cell_type": "code",
   "execution_count": null,
   "metadata": {
    "id": "DuU9j9dGd9K9"
   },
   "outputs": [],
   "source": [
    "# function to eturn genre names for ids\n",
    "def get_genre_name(genre_ids, results_dict):\n",
    "  genre_names = []\n",
    "  for genre_id in genre_ids:\n",
    "    for result in results_dict:\n",
    "      if result[\"id\"] == genre_id:\n",
    "        genre_names.append(result[\"name\"])\n",
    "  return ','.join(genre_names)\n"
   ]
  },
  {
   "cell_type": "code",
   "execution_count": null,
   "metadata": {
    "id": "tnR-cAHQgnbT"
   },
   "outputs": [],
   "source": [
    "%%time\n",
    "df['genres'] = df.apply(lambda x: get_genre_name(x['genre_ids'], results_dict), axis=1)\n",
    "df.head()"
   ]
  },
  {
   "cell_type": "markdown",
   "metadata": {
    "id": "XtLSr807Jc0d"
   },
   "source": [
    "### Preprocessing"
   ]
  },
  {
   "cell_type": "code",
   "execution_count": null,
   "metadata": {
    "id": "GiqP6NzEJiIa"
   },
   "outputs": [],
   "source": []
  }
 ],
 "metadata": {
  "colab": {
   "provenance": []
  },
  "kernelspec": {
   "display_name": "Python 3 (ipykernel)",
   "language": "python",
   "name": "python3"
  },
  "language_info": {
   "codemirror_mode": {
    "name": "ipython",
    "version": 3
   },
   "file_extension": ".py",
   "mimetype": "text/x-python",
   "name": "python",
   "nbconvert_exporter": "python",
   "pygments_lexer": "ipython3",
   "version": "3.10.12"
  }
 },
 "nbformat": 4,
 "nbformat_minor": 4
}
